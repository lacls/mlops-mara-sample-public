{
 "cells": [
  {
   "cell_type": "code",
   "execution_count": 4,
   "metadata": {},
   "outputs": [],
   "source": [
    "import pandas as pd\n",
    "read_train=pd.read_parquet('/Users/lacle/Desktop/ml_ops_test/mlops-mara-sample-public/data/train_data/phase-3/prob-1/train_x.parquet')"
   ]
  },
  {
   "cell_type": "code",
   "execution_count": 8,
   "metadata": {},
   "outputs": [
    {
     "data": {
      "text/plain": [
       "Index(['feature1', 'feature2', 'feature3', 'feature4', 'feature5', 'feature6',\n",
       "       'feature7', 'feature8', 'feature9', 'feature10', 'feature11',\n",
       "       'feature12', 'feature13', 'feature14', 'feature15', 'feature16',\n",
       "       'feature17', 'feature18', 'feature19', 'feature20', 'feature21',\n",
       "       'feature22', 'feature23', 'feature24', 'feature25', 'feature26',\n",
       "       'feature27', 'feature28', 'feature29', 'feature30', 'feature31',\n",
       "       'feature32', 'feature33', 'feature34', 'feature35', 'feature36',\n",
       "       'feature37', 'feature38', 'feature39', 'feature40', 'feature41'],\n",
       "      dtype='object')"
      ]
     },
     "execution_count": 8,
     "metadata": {},
     "output_type": "execute_result"
    }
   ],
   "source": [
    "read_train.iloc[0].keys()"
   ]
  },
  {
   "cell_type": "code",
   "execution_count": 19,
   "metadata": {},
   "outputs": [
    {
     "data": {
      "text/plain": [
       "{'id': '123',\n",
       " 'rows': [3e-06,\n",
       "  118.0,\n",
       "  0.0,\n",
       "  4.0,\n",
       "  2.0,\n",
       "  0.0,\n",
       "  2104.0,\n",
       "  0.0,\n",
       "  254.0,\n",
       "  0.0,\n",
       "  2805333248.0,\n",
       "  0.0,\n",
       "  0.0,\n",
       "  0.0,\n",
       "  0.003,\n",
       "  0.0,\n",
       "  0.0,\n",
       "  0.0,\n",
       "  0.0,\n",
       "  0.0,\n",
       "  0.0,\n",
       "  0.0,\n",
       "  0.0,\n",
       "  0.0,\n",
       "  0.0,\n",
       "  1052.0,\n",
       "  0.0,\n",
       "  0.0,\n",
       "  0.0,\n",
       "  1.0,\n",
       "  2.0,\n",
       "  2.0,\n",
       "  1.0,\n",
       "  1.0,\n",
       "  2.0,\n",
       "  0.0,\n",
       "  0.0,\n",
       "  0.0,\n",
       "  1.0,\n",
       "  2.0,\n",
       "  0.0],\n",
       " 'columns': ['feature1',\n",
       "  'feature2',\n",
       "  'feature3',\n",
       "  'feature4',\n",
       "  'feature5',\n",
       "  'feature6',\n",
       "  'feature7',\n",
       "  'feature8',\n",
       "  'feature9',\n",
       "  'feature10',\n",
       "  'feature11',\n",
       "  'feature12',\n",
       "  'feature13',\n",
       "  'feature14',\n",
       "  'feature15',\n",
       "  'feature16',\n",
       "  'feature17',\n",
       "  'feature18',\n",
       "  'feature19',\n",
       "  'feature20',\n",
       "  'feature21',\n",
       "  'feature22',\n",
       "  'feature23',\n",
       "  'feature24',\n",
       "  'feature25',\n",
       "  'feature26',\n",
       "  'feature27',\n",
       "  'feature28',\n",
       "  'feature29',\n",
       "  'feature30',\n",
       "  'feature31',\n",
       "  'feature32',\n",
       "  'feature33',\n",
       "  'feature34',\n",
       "  'feature35',\n",
       "  'feature36',\n",
       "  'feature37',\n",
       "  'feature38',\n",
       "  'feature39',\n",
       "  'feature40',\n",
       "  'feature41']}"
      ]
     },
     "execution_count": 19,
     "metadata": {},
     "output_type": "execute_result"
    }
   ],
   "source": [
    "{\"id\":\"123\",\n",
    " '\"ows':list(read_train.iloc[0].values),\n",
    " 'columns':list(read_train.columns.values),}"
   ]
  },
  {
   "cell_type": "code",
   "execution_count": null,
   "metadata": {},
   "outputs": [],
   "source": []
  }
 ],
 "metadata": {
  "kernelspec": {
   "display_name": "py39",
   "language": "python",
   "name": "py39"
  },
  "language_info": {
   "codemirror_mode": {
    "name": "ipython",
    "version": 3
   },
   "file_extension": ".py",
   "mimetype": "text/x-python",
   "name": "python",
   "nbconvert_exporter": "python",
   "pygments_lexer": "ipython3",
   "version": "3.9.17"
  },
  "orig_nbformat": 4
 },
 "nbformat": 4,
 "nbformat_minor": 2
}
